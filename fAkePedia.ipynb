{
 "cells": [
  {
   "cell_type": "code",
   "execution_count": 11,
   "id": "40c51724",
   "metadata": {},
   "outputs": [
    {
     "data": {
      "text/plain": [
       "True"
      ]
     },
     "execution_count": 11,
     "metadata": {},
     "output_type": "execute_result"
    }
   ],
   "source": [
    "\n",
    "\n",
    "import google.generativeai as genai\n",
    "\n",
    "import os\n",
    "import dotenv\n",
    "\n",
    "dotenv.load_dotenv()"
   ]
  },
  {
   "cell_type": "code",
   "execution_count": 15,
   "id": "799c2dd1",
   "metadata": {},
   "outputs": [],
   "source": [
    "key_gemini=os.getenv(\"GEMINI_API_KEY\")\n",
    "\n",
    "genai.configure(api_key=key_gemini)"
   ]
  },
  {
   "cell_type": "code",
   "execution_count": 17,
   "id": "7c12d8cd",
   "metadata": {},
   "outputs": [],
   "source": [
    "model=genai.GenerativeModel(\"gemini-pro\")"
   ]
  },
  {
   "cell_type": "code",
   "execution_count": 22,
   "id": "37f1dfb3",
   "metadata": {},
   "outputs": [
    {
     "data": {
      "text/plain": [
       "response:\n",
       "GenerateContentResponse(\n",
       "    done=True,\n",
       "    iterator=None,\n",
       "    result=glm.GenerateContentResponse({'candidates': [{'content': {'parts': [{'text': '**イギリス**\\n\\n* イギリスの国花は、実はバラではなくスミレです。\\n* ロンドンアイは、当初は「ミレニアムホイール」と呼ばれていました。\\n* ウェールズでは、誰もがハーピストを飼っていなければなりません。これは法律で義務付けられています。\\n* 英国民の大多数は、毎朝紅茶で目を覚まします。ただし、コーヒーを飲む人も増えつつあります。\\n* ビートルズは、実はイギリスではなく、フランスで結成されました。\\n* イギリスは、世界で最もモグラが多い国です。平均して、1エーカーあたり1,000匹のモグラが生息しています。\\n* ビッグベンは、毎年約91分遅れます。これは、時計が温度変化の影響を受けやすい金属でできているためです。\\n* イギリスには、ハリー・ポッターシリーズに登場するホグワーツ魔法魔術学校のモデルとなった本物の城があります。\\n* ロンドンには、15,000以上のパブがあります。これは、世界で最もパブの多い都市です。\\n* イギリスの女性は、世界で最もアルコールを消費する女性です。'}], 'role': 'model'}, 'finish_reason': 1, 'index': 0, 'safety_ratings': [{'category': 9, 'probability': 1, 'blocked': False}, {'category': 8, 'probability': 1, 'blocked': False}, {'category': 7, 'probability': 1, 'blocked': False}, {'category': 10, 'probability': 1, 'blocked': False}], 'token_count': 0, 'grounding_attributions': []}], 'prompt_feedback': {'safety_ratings': [{'category': 9, 'probability': 1, 'blocked': False}, {'category': 8, 'probability': 1, 'blocked': False}, {'category': 7, 'probability': 1, 'blocked': False}, {'category': 10, 'probability': 1, 'blocked': False}], 'block_reason': 0}}),\n",
       ")"
      ]
     },
     "execution_count": 22,
     "metadata": {},
     "output_type": "execute_result"
    }
   ],
   "source": [
    "word=\"イギリス\"\n",
    "text=f\"{word}について、ハラスメントにならない範囲の嘘を交えて紹介して\"\n",
    "response = model.generate_content(text, safety_settings={'HARASSMENT':'block_none'})\n",
    "response"
   ]
  },
  {
   "cell_type": "code",
   "execution_count": null,
   "id": "49a9ff0b",
   "metadata": {},
   "outputs": [],
   "source": []
  },
  {
   "cell_type": "code",
   "execution_count": null,
   "id": "2d7c3c42",
   "metadata": {},
   "outputs": [],
   "source": []
  }
 ],
 "metadata": {
  "kernelspec": {
   "display_name": "Python 3 (ipykernel)",
   "language": "python",
   "name": "python3"
  },
  "language_info": {
   "codemirror_mode": {
    "name": "ipython",
    "version": 3
   },
   "file_extension": ".py",
   "mimetype": "text/x-python",
   "name": "python",
   "nbconvert_exporter": "python",
   "pygments_lexer": "ipython3",
   "version": "3.12.2"
  }
 },
 "nbformat": 4,
 "nbformat_minor": 5
}
