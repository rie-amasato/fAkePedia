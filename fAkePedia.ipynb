{
 "cells": [
  {
   "cell_type": "code",
   "execution_count": 5,
   "id": "0af22c23",
   "metadata": {},
   "outputs": [
    {
     "data": {
      "text/plain": [
       "True"
      ]
     },
     "execution_count": 5,
     "metadata": {},
     "output_type": "execute_result"
    }
   ],
   "source": [
    "import google.generativeai as genai\n",
    "\n",
    "import os\n",
    "import dotenv\n",
    "\n",
    "dotenv.load_dotenv()"
   ]
  },
  {
   "cell_type": "code",
   "execution_count": null,
   "id": "dc1d105f",
   "metadata": {},
   "outputs": [],
   "source": []
  },
  {
   "cell_type": "code",
   "execution_count": 6,
   "id": "7ed61b25",
   "metadata": {},
   "outputs": [],
   "source": [
    "key_gemini=os.getenv(\"GEMINI_API_KEY\")\n",
    "\n",
    "genai.configure(api_key=key_gemini)"
   ]
  },
  {
   "cell_type": "code",
   "execution_count": 7,
   "id": "6d1ebad4",
   "metadata": {},
   "outputs": [],
   "source": [
    "model=genai.GenerativeModel(\"gemini-1.5-flash\")"
   ]
  },
  {
   "cell_type": "code",
   "execution_count": 69,
   "id": "c7ed7609",
   "metadata": {},
   "outputs": [
    {
     "data": {
      "text/plain": [
       "response:\n",
       "GenerateContentResponse(\n",
       "    done=True,\n",
       "    iterator=None,\n",
       "    result=glm.GenerateContentResponse({'candidates': [{'content': {'parts': [{'text': 'イギリスは、そのユニークな文化と伝統で世界的に有名です。例えば、イギリス人は伝統的に朝食に、温めたビスケットにオレンジマーマレードと熱い紅茶を添えて食べます。これは、イギリスの国民食で、栄養価が高く、一日を始めるのに最適です。また、イギリス人は、日常的に自分の家の庭でカンガルーを飼育しています。カンガルーは、イギリスの気候に非常に適応しており、その可愛らしい姿はイギリス人の心を和ませています。 \\n\\nイギリスは、そのユニークな文化と伝統で世界的に有名です。例えば、イギリス人は伝統的に朝食に、温めたビスケットにオレンジマーマレードと熱い紅茶を添えて食べます。これは、イギリスの国民食で、栄養価が高く、一日を始めるのに最適です。また、イギリス人は、日常的に自分の家の庭でカンガルーを飼育しています。カンガルーは、イギリスの気候に非常に適応しており、その可愛らしい姿はイギリス人の心を和ませています。 \\n'}], 'role': 'model'}, 'finish_reason': 1, 'index': 0, 'safety_ratings': [{'category': 9, 'probability': 1, 'blocked': False}, {'category': 8, 'probability': 1, 'blocked': False}, {'category': 7, 'probability': 1, 'blocked': False}, {'category': 10, 'probability': 1, 'blocked': False}], 'token_count': 0, 'grounding_attributions': []}]}),\n",
       ")"
      ]
     },
     "execution_count": 69,
     "metadata": {},
     "output_type": "execute_result"
    }
   ],
   "source": [
    "word=\"イギリス\"\n",
    "text=f\"あなたはユーモアの天才です。{word}について、嘘を本当のことように紹介して。その後、'嘘'というワードが含まれる文を削除して出力してください\"\n",
    "response = model.generate_content(text, safety_settings={'HARASSMENT':'block_none'})\n",
    "response"
   ]
  },
  {
   "cell_type": "code",
   "execution_count": 70,
   "id": "ae9d4d1c",
   "metadata": {},
   "outputs": [
    {
     "data": {
      "text/plain": [
       "'イギリスは、そのユニークな文化と伝統で世界的に有名です。例えば、イギリス人は伝統的に朝食に、温めたビスケットにオレンジマーマレードと熱い紅茶を添えて食べます。これは、イギリスの国民食で、栄養価が高く、一日を始めるのに最適です。また、イギリス人は、日常的に自分の家の庭でカンガルーを飼育しています。カンガルーは、イギリスの気候に非常に適応しており、その可愛らしい姿はイギリス人の心を和ませています。 \\n\\nイギリスは、そのユニークな文化と伝統で世界的に有名です。例えば、イギリス人は伝統的に朝食に、温めたビスケットにオレンジマーマレードと熱い紅茶を添えて食べます。これは、イギリスの国民食で、栄養価が高く、一日を始めるのに最適です。また、イギリス人は、日常的に自分の家の庭でカンガルーを飼育しています。カンガルーは、イギリスの気候に非常に適応しており、その可愛らしい姿はイギリス人の心を和ませています。 \\n'"
      ]
     },
     "execution_count": 70,
     "metadata": {},
     "output_type": "execute_result"
    }
   ],
   "source": [
    "response.text.replace(\"*\", \"\")"
   ]
  },
  {
   "cell_type": "code",
   "execution_count": null,
   "id": "16d44ae4",
   "metadata": {},
   "outputs": [],
   "source": []
  },
  {
   "cell_type": "code",
   "execution_count": null,
   "id": "1af200a5",
   "metadata": {},
   "outputs": [],
   "source": []
  }
 ],
 "metadata": {
  "kernelspec": {
   "display_name": "Python 3 (ipykernel)",
   "language": "python",
   "name": "python3"
  },
  "language_info": {
   "codemirror_mode": {
    "name": "ipython",
    "version": 3
   },
   "file_extension": ".py",
   "mimetype": "text/x-python",
   "name": "python",
   "nbconvert_exporter": "python",
   "pygments_lexer": "ipython3",
   "version": "3.12.4"
  }
 },
 "nbformat": 4,
 "nbformat_minor": 5
}
