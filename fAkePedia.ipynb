{
 "cells": [
  {
   "cell_type": "code",
   "execution_count": 6,
   "id": "87ec44f6",
   "metadata": {},
   "outputs": [
    {
     "data": {
      "text/plain": [
       "True"
      ]
     },
     "execution_count": 6,
     "metadata": {},
     "output_type": "execute_result"
    }
   ],
   "source": [
    "import google.generativeai as genai\n",
    "\n",
    "import os\n",
    "import dotenv\n",
    "\n",
    "dotenv.load_dotenv()"
   ]
  },
  {
   "cell_type": "code",
   "execution_count": null,
   "id": "de00c5ba",
   "metadata": {},
   "outputs": [],
   "source": []
  },
  {
   "cell_type": "code",
   "execution_count": 7,
   "id": "011ec24a",
   "metadata": {},
   "outputs": [],
   "source": [
    "key_gemini=os.getenv(\"GEMINI_API_KEY\")\n",
    "\n",
    "genai.configure(api_key=key_gemini)"
   ]
  },
  {
   "cell_type": "code",
   "execution_count": 8,
   "id": "a5566a56",
   "metadata": {},
   "outputs": [],
   "source": [
    "model=genai.GenerativeModel(\"gemini-pro\")"
   ]
  },
  {
   "cell_type": "code",
   "execution_count": 24,
   "id": "f08b26e2",
   "metadata": {},
   "outputs": [
    {
     "data": {
      "text/plain": [
       "response:\n",
       "GenerateContentResponse(\n",
       "    done=True,\n",
       "    iterator=None,\n",
       "    result=glm.GenerateContentResponse({'candidates': [{'content': {'parts': [{'text': 'ブリティッシュ・アイルズに位置する霧深い国、イングランド。\\n\\n「紳士の国」として知られ、礼儀正しさと洗練されたスタイルが特徴です。\\n\\nこの国には、次のようなユニークな特性があります。\\n\\n* 英国の国旗であるユニオンジャックには、聖ジョージの十字架、聖アンドリューの十字架、聖パトリックの十字架が含まれています。これは、国が複数の守護聖人を有していることを象徴しています。\\n* ロンドン塔に保管されている王家の宝物は、世界で最も価値のあるコレクションの一つです。中には、ダイヤモンドで飾られた女王の笏や、数億ドルの価値があると言われる聖エドワード王冠などが含まれます。\\n* イングランドには、世界で最も古い大学であるオックスフォード大学とケンブリッジ大学があります。これらの大学は、何世紀にもわたって学術と知的追求の中心地であり続けています。\\n* イングランドは、シェイクスピア、チャールズ・ディケンズ、ジェーン・オースティンなど、数々の偉大な作家の故郷です。彼らの作品は、英国文化と世界の文学に永続的な影響を与えています。\\n* イギリスでは、独自の言語である「クイーンズ・イングリッシュ」が話されています。これは、他の英語の方言とは異なる独特の音韻や文法を持っています。'}], 'role': 'model'}, 'finish_reason': 1, 'index': 0, 'safety_ratings': [{'category': 9, 'probability': 1, 'blocked': False}, {'category': 8, 'probability': 1, 'blocked': False}, {'category': 7, 'probability': 1, 'blocked': False}, {'category': 10, 'probability': 1, 'blocked': False}], 'token_count': 0, 'grounding_attributions': []}], 'prompt_feedback': {'safety_ratings': [{'category': 9, 'probability': 1, 'blocked': False}, {'category': 8, 'probability': 1, 'blocked': False}, {'category': 7, 'probability': 1, 'blocked': False}, {'category': 10, 'probability': 1, 'blocked': False}], 'block_reason': 0}}),\n",
       ")"
      ]
     },
     "execution_count": 24,
     "metadata": {},
     "output_type": "execute_result"
    }
   ],
   "source": [
    "word=\"イギリス\"\n",
    "text=f\"{word}について、ハラスメントにならない範囲の嘘を交えて、'嘘'という単語を使わずに紹介して\"\n",
    "response = model.generate_content(text, safety_settings={'HARASSMENT':'block_none'})\n",
    "response"
   ]
  },
  {
   "cell_type": "code",
   "execution_count": 25,
   "id": "0faa7425",
   "metadata": {},
   "outputs": [
    {
     "data": {
      "text/plain": [
       "'ブリティッシュ・アイルズに位置する霧深い国、イングランド。\\n\\n「紳士の国」として知られ、礼儀正しさと洗練されたスタイルが特徴です。\\n\\nこの国には、次のようなユニークな特性があります。\\n\\n 英国の国旗であるユニオンジャックには、聖ジョージの十字架、聖アンドリューの十字架、聖パトリックの十字架が含まれています。これは、国が複数の守護聖人を有していることを象徴しています。\\n ロンドン塔に保管されている王家の宝物は、世界で最も価値のあるコレクションの一つです。中には、ダイヤモンドで飾られた女王の笏や、数億ドルの価値があると言われる聖エドワード王冠などが含まれます。\\n イングランドには、世界で最も古い大学であるオックスフォード大学とケンブリッジ大学があります。これらの大学は、何世紀にもわたって学術と知的追求の中心地であり続けています。\\n イングランドは、シェイクスピア、チャールズ・ディケンズ、ジェーン・オースティンなど、数々の偉大な作家の故郷です。彼らの作品は、英国文化と世界の文学に永続的な影響を与えています。\\n イギリスでは、独自の言語である「クイーンズ・イングリッシュ」が話されています。これは、他の英語の方言とは異なる独特の音韻や文法を持っています。'"
      ]
     },
     "execution_count": 25,
     "metadata": {},
     "output_type": "execute_result"
    }
   ],
   "source": [
    "response.text.replace(\"*\", \"\")"
   ]
  },
  {
   "cell_type": "code",
   "execution_count": null,
   "id": "4c2a7700",
   "metadata": {},
   "outputs": [],
   "source": []
  },
  {
   "cell_type": "code",
   "execution_count": null,
   "id": "712d8365",
   "metadata": {},
   "outputs": [],
   "source": []
  }
 ],
 "metadata": {
  "kernelspec": {
   "display_name": "Python 3 (ipykernel)",
   "language": "python",
   "name": "python3"
  },
  "language_info": {
   "codemirror_mode": {
    "name": "ipython",
    "version": 3
   },
   "file_extension": ".py",
   "mimetype": "text/x-python",
   "name": "python",
   "nbconvert_exporter": "python",
   "pygments_lexer": "ipython3",
   "version": "3.12.2"
  }
 },
 "nbformat": 4,
 "nbformat_minor": 5
}
