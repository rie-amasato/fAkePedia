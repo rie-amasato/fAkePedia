{
 "cells": [
  {
   "cell_type": "code",
   "execution_count": 14,
   "id": "6cba6e89",
   "metadata": {},
   "outputs": [
    {
     "data": {
      "text/plain": [
       "True"
      ]
     },
     "execution_count": 14,
     "metadata": {},
     "output_type": "execute_result"
    }
   ],
   "source": [
    "import google.generativeai as genai\n",
    "\n",
    "import os\n",
    "import dotenv\n",
    "\n",
    "dotenv.load_dotenv()"
   ]
  },
  {
   "cell_type": "code",
   "execution_count": null,
   "id": "378708c3",
   "metadata": {},
   "outputs": [],
   "source": []
  },
  {
   "cell_type": "code",
   "execution_count": 15,
   "id": "4d048c14",
   "metadata": {},
   "outputs": [],
   "source": [
    "key_gemini=os.getenv(\"GEMINI_API_KEY\")\n",
    "\n",
    "genai.configure(api_key=key_gemini)"
   ]
  },
  {
   "cell_type": "code",
   "execution_count": 16,
   "id": "b6a92947",
   "metadata": {},
   "outputs": [],
   "source": [
    "model=genai.GenerativeModel(\"gemini-pro\")"
   ]
  },
  {
   "cell_type": "code",
   "execution_count": 18,
   "id": "217155df",
   "metadata": {},
   "outputs": [
    {
     "data": {
      "text/plain": [
       "response:\n",
       "GenerateContentResponse(\n",
       "    done=True,\n",
       "    iterator=None,\n",
       "    result=glm.GenerateContentResponse({'candidates': [{'content': {'parts': [{'text': '**イギリスの嘘の歴史**\\n\\n* イギリスでは、毎日午後3時に国民全員がお茶を飲む習慣がある。\\n* 国民は全員、女王陛下への忠誠を誓っている。\\n* イギリスのカラスはすべてスパイで、国民の行動を監視している。\\n* イギリスの天気予報は常に正確で、雨が降ることは決してない。\\n* 国民全員が紳士淑女であり、非常に礼儀正しい。\\n* イギリスの料理は世界で最も美味しいとされている。\\n* イギリスでは、信号機が赤になると車が左折できる。\\n* イギリス国民は全員、サッカーに夢中で、週末はパブで試合を観戦している。\\n* イギリスでは、王室は国民から非常に敬愛されている。\\n* イギリスの湖はすべてネス湖の怪物の住処である。'}], 'role': 'model'}, 'finish_reason': 1, 'index': 0, 'safety_ratings': [{'category': 9, 'probability': 1, 'blocked': False}, {'category': 8, 'probability': 2, 'blocked': False}, {'category': 7, 'probability': 1, 'blocked': False}, {'category': 10, 'probability': 1, 'blocked': False}], 'token_count': 0, 'grounding_attributions': []}], 'prompt_feedback': {'safety_ratings': [{'category': 9, 'probability': 1, 'blocked': False}, {'category': 8, 'probability': 1, 'blocked': False}, {'category': 7, 'probability': 1, 'blocked': False}, {'category': 10, 'probability': 1, 'blocked': False}], 'block_reason': 0}}),\n",
       ")"
      ]
     },
     "execution_count": 18,
     "metadata": {},
     "output_type": "execute_result"
    }
   ],
   "source": [
    "word=\"イギリス\"\n",
    "text=f\"{word}について、ハラスメントにならない範囲の嘘を交えて紹介して\"\n",
    "response = model.generate_content(text, safety_settings={'HARASSMENT':'block_none'})\n",
    "response"
   ]
  },
  {
   "cell_type": "code",
   "execution_count": 23,
   "id": "7336217c",
   "metadata": {},
   "outputs": [
    {
     "data": {
      "text/plain": [
       "'**イギリスの嘘の歴史**\\n\\n イギリスでは、毎日午後3時に国民全員がお茶を飲む習慣がある。\\n 国民は全員、女王陛下への忠誠を誓っている。\\n イギリスのカラスはすべてスパイで、国民の行動を監視している。\\n イギリスの天気予報は常に正確で、雨が降ることは決してない。\\n 国民全員が紳士淑女であり、非常に礼儀正しい。\\n イギリスの料理は世界で最も美味しいとされている。\\n イギリスでは、信号機が赤になると車が左折できる。\\n イギリス国民は全員、サッカーに夢中で、週末はパブで試合を観戦している。\\n イギリスでは、王室は国民から非常に敬愛されている。\\n イギリスの湖はすべてネス湖の怪物の住処である。'"
      ]
     },
     "execution_count": 23,
     "metadata": {},
     "output_type": "execute_result"
    }
   ],
   "source": [
    "response.text.replace(\"\\n*\", \"\\n\")"
   ]
  },
  {
   "cell_type": "code",
   "execution_count": null,
   "id": "dc932768",
   "metadata": {},
   "outputs": [],
   "source": []
  },
  {
   "cell_type": "code",
   "execution_count": null,
   "id": "638c9bc5",
   "metadata": {},
   "outputs": [],
   "source": []
  }
 ],
 "metadata": {
  "kernelspec": {
   "display_name": "Python 3 (ipykernel)",
   "language": "python",
   "name": "python3"
  },
  "language_info": {
   "codemirror_mode": {
    "name": "ipython",
    "version": 3
   },
   "file_extension": ".py",
   "mimetype": "text/x-python",
   "name": "python",
   "nbconvert_exporter": "python",
   "pygments_lexer": "ipython3",
   "version": "3.12.2"
  }
 },
 "nbformat": 4,
 "nbformat_minor": 5
}
